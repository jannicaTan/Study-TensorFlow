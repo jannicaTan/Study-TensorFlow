{
 "cells": [
  {
   "cell_type": "code",
   "execution_count": 1,
   "id": "8aaa853e",
   "metadata": {},
   "outputs": [
    {
     "name": "stdout",
     "output_type": "stream",
     "text": [
      "TensorFlow version: 2.6.0\n"
     ]
    }
   ],
   "source": [
    "import tensorflow as tf\n",
    "print(\"TensorFlow version:\",tf.__version__)"
   ]
  },
  {
   "cell_type": "code",
   "execution_count": 2,
   "id": "c2771493",
   "metadata": {},
   "outputs": [
    {
     "name": "stdout",
     "output_type": "stream",
     "text": [
      "Eager execution is: True\n"
     ]
    }
   ],
   "source": [
    "print(\"Eager execution is:\",tf.executing_eagerly())"
   ]
  },
  {
   "cell_type": "code",
   "execution_count": 6,
   "id": "0dbd7e77",
   "metadata": {},
   "outputs": [
    {
     "data": {
      "text/plain": [
       "array([[1, 2],\n",
       "       [3, 4]], dtype=int32)"
      ]
     },
     "execution_count": 6,
     "metadata": {},
     "output_type": "execute_result"
    }
   ],
   "source": [
    "a=tf.constant([[1,2],[3,4]])\n",
    "a.numpy()"
   ]
  },
  {
   "cell_type": "code",
   "execution_count": 7,
   "id": "106edfb5",
   "metadata": {},
   "outputs": [
    {
     "data": {
      "text/plain": [
       "tensorflow.python.framework.ops.EagerTensor"
      ]
     },
     "execution_count": 7,
     "metadata": {},
     "output_type": "execute_result"
    }
   ],
   "source": [
    "type(a)"
   ]
  },
  {
   "cell_type": "code",
   "execution_count": 14,
   "id": "49851164",
   "metadata": {},
   "outputs": [
    {
     "name": "stdout",
     "output_type": "stream",
     "text": [
      "a.type: <dtype: 'int64'>\n",
      "b.type: <dtype: 'float32'>\n"
     ]
    }
   ],
   "source": [
    "import numpy as np\n",
    "a=tf.constant(np.array([1,2]))\n",
    "b=tf.cast(a,dtype=tf.float32)\n",
    "print(\"a.type:\",a.dtype)\n",
    "print(\"b.type:\",b.dtype)"
   ]
  },
  {
   "cell_type": "code",
   "execution_count": 31,
   "id": "6790de65",
   "metadata": {},
   "outputs": [
    {
     "name": "stdout",
     "output_type": "stream",
     "text": [
      "a.type1: <dtype: 'bool'>\n",
      "b.type2: <dtype: 'int32'>\n"
     ]
    }
   ],
   "source": [
    "a=tf.constant([True,False])\n",
    "print(\"a.type1:\",a.dtype)\n",
    "b=tf.cast(a,tf.int32)\n",
    "print(\"b.type2:\",b.dtype)"
   ]
  },
  {
   "cell_type": "code",
   "execution_count": 26,
   "id": "d672aae7",
   "metadata": {},
   "outputs": [
    {
     "name": "stdout",
     "output_type": "stream",
     "text": [
      "type(na): False , <class 'numpy.ndarray'> \n",
      "type(ta): True , <class 'tensorflow.python.framework.ops.EagerTensor'>\n"
     ]
    }
   ],
   "source": [
    "#tf.convert_to_tensor:转换\n",
    "#tf.is_tensor():判断是否是张量\n",
    "na=np.arange(12).reshape(3,4)\n",
    "ta=tf.convert_to_tensor(na)\n",
    "print(\"type(na):\",tf.is_tensor(na),\",\",type(na),\"\\ntype(ta):\",tf.is_tensor(ta),\",\",type(ta))"
   ]
  },
  {
   "cell_type": "code",
   "execution_count": 32,
   "id": "4b5ea396",
   "metadata": {},
   "outputs": [
    {
     "data": {
      "text/plain": [
       "<tf.Tensor: shape=(2, 1), dtype=float32, numpy=\n",
       "array([[1.],\n",
       "       [1.]], dtype=float32)>"
      ]
     },
     "execution_count": 32,
     "metadata": {},
     "output_type": "execute_result"
    }
   ],
   "source": [
    "#全0张量:tf.zeros(shape,dtype=tf.float32)\n",
    "#全1张量:tf.ones(shape,dtype=tf.float32)\n",
    "tf.ones(shape=(2,1))"
   ]
  },
  {
   "cell_type": "code",
   "execution_count": 38,
   "id": "8f51c837",
   "metadata": {},
   "outputs": [
    {
     "data": {
      "text/plain": [
       "<tf.Tensor: shape=(2, 3), dtype=int32, numpy=\n",
       "array([[9, 9, 9],\n",
       "       [9, 9, 9]], dtype=int32)>"
      ]
     },
     "execution_count": 38,
     "metadata": {},
     "output_type": "execute_result"
    }
   ],
   "source": [
    "#创建元素值都相同的张量—— tf.fill(dims,value)函数\n",
    "tf.fill([2,3],9)"
   ]
  },
  {
   "cell_type": "code",
   "execution_count": 39,
   "id": "cf74f25f",
   "metadata": {},
   "outputs": [
    {
     "data": {
      "text/plain": [
       "<tf.Tensor: shape=(1, 2), dtype=int32, numpy=array([[6, 6]], dtype=int32)>"
      ]
     },
     "execution_count": 39,
     "metadata": {},
     "output_type": "execute_result"
    }
   ],
   "source": [
    "#创建元素值都相同的张量—— tf.constant(value,shape=[])函数\n",
    "tf.constant(6,shape=[1,2])"
   ]
  },
  {
   "cell_type": "code",
   "execution_count": 40,
   "id": "b756f5c1",
   "metadata": {},
   "outputs": [
    {
     "data": {
      "text/plain": [
       "<tf.Tensor: shape=(2, 2), dtype=float32, numpy=\n",
       "array([[ 0.29359344,  0.66151613],\n",
       "       [-5.4464564 , -3.102132  ]], dtype=float32)>"
      ]
     },
     "execution_count": 40,
     "metadata": {},
     "output_type": "execute_result"
    }
   ],
   "source": [
    "#创建随机数张量——正态分布:tf.random.normal( shape, mean(均值, stddev(标准差, dtype)\n",
    "tf.random.normal([2,2],mean=0.0,stddev=2.0)"
   ]
  },
  {
   "cell_type": "code",
   "execution_count": 43,
   "id": "43811382",
   "metadata": {},
   "outputs": [
    {
     "data": {
      "text/plain": [
       "<tf.Tensor: shape=(2, 2), dtype=float32, numpy=\n",
       "array([[-0.45728165, -2.9015257 ],\n",
       "       [ 2.6454687 , -3.2305527 ]], dtype=float32)>"
      ]
     },
     "execution_count": 43,
     "metadata": {},
     "output_type": "execute_result"
    }
   ],
   "source": [
    "#创建随机数张量——截断正态分布:tf.random.truncated_normal( shape, mean, stddev, dtype )\n",
    "tf.random.truncated_normal([2,2],mean=0.0,stddev=2.0)"
   ]
  },
  {
   "cell_type": "code",
   "execution_count": null,
   "id": "ccce3f84",
   "metadata": {},
   "outputs": [],
   "source": []
  },
  {
   "cell_type": "code",
   "execution_count": null,
   "id": "34d69acb",
   "metadata": {},
   "outputs": [],
   "source": []
  }
 ],
 "metadata": {
  "kernelspec": {
   "display_name": "Python 3 (ipykernel)",
   "language": "python",
   "name": "python3"
  },
  "language_info": {
   "codemirror_mode": {
    "name": "ipython",
    "version": 3
   },
   "file_extension": ".py",
   "mimetype": "text/x-python",
   "name": "python",
   "nbconvert_exporter": "python",
   "pygments_lexer": "ipython3",
   "version": "3.7.11"
  }
 },
 "nbformat": 4,
 "nbformat_minor": 5
}
